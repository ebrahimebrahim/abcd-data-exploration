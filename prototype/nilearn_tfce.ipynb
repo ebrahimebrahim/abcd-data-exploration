{
 "cells": [
  {
   "cell_type": "code",
   "execution_count": null,
   "id": "275b8d27-8b5b-4ea8-ae3b-2105089c268b",
   "metadata": {},
   "outputs": [],
   "source": [
    "import nilearn.datasets\n",
    "import nilearn.glm\n",
    "import nilearn.image\n",
    "import nilearn.masking\n",
    "import pandas as pd"
   ]
  },
  {
   "cell_type": "code",
   "execution_count": null,
   "id": "78294fb7-aed2-4121-b601-aef573c3ffd9",
   "metadata": {},
   "outputs": [],
   "source": [
    "# Load functional data (replace with your own file path)\n",
    "func_img = (\n",
    "    \"/data2/ABCD/gor-images/coregistered-images/\"\n",
    "    \"gorinput0000-modality0-sub-NDARINV5U642ALM_ses-2YearFollowUpYArm1_run-concatenated_dwi_fa-WarpedToTemplate.nii.gz\"\n",
    ")\n",
    "\n",
    "# Load or compute a brain mask\n",
    "mask_img = nilearn.masking.compute_epi_mask(func_img)"
   ]
  },
  {
   "cell_type": "code",
   "execution_count": null,
   "id": "9b375d04-f9ee-4c3c-ab87-461c1c951cc6",
   "metadata": {},
   "outputs": [],
   "source": [
    "# TODO: Understand https://nilearn.github.io/dev/auto_examples/04_glm_first_level/plot_design_matrix.html\n",
    "# Create a design matrix (replace with your own design matrix)\n",
    "design_matrix = pd.DataFrame(...)\n",
    "\n",
    "# Fit the GLM model\n",
    "model = nilearn.glm.first_level.FirstLevelModel(mask_img=mask_img)\n",
    "model.fit(func_img, design_matrix=design_matrix)"
   ]
  },
  {
   "cell_type": "code",
   "execution_count": null,
   "id": "3b70a4ab-3803-459f-a047-aed5d2754656",
   "metadata": {},
   "outputs": [],
   "source": [
    "# Define your contrasts\n",
    "contrast_matrix = np.array([[1, 0, 0], [0, 1, 0]])  # Example contrast matrix\n",
    "\n",
    "# Compute t-contrast maps\n",
    "z_maps = model.compute_contrast(contrast_matrix, output_type=\"z_score\")"
   ]
  },
  {
   "cell_type": "code",
   "execution_count": null,
   "id": "823d758d-3e25-4935-8354-0b916722e773",
   "metadata": {},
   "outputs": [],
   "source": [
    "from nilearn.plotting import plot_stat_map\n",
    "\n",
    "# Visualize the first contrast\n",
    "plot_stat_map(\n",
    "    z_maps[0], bg_img=nilearn.datasets.load_mni152_template(), title=\"t-contrast map for contrast 1\"\n",
    ")"
   ]
  }
 ],
 "metadata": {
  "jupytext": {
   "formats": "ipynb,auto:light"
  },
  "kernelspec": {
   "display_name": "abcd311",
   "language": "python",
   "name": "abcd311"
  },
  "language_info": {
   "codemirror_mode": {
    "name": "ipython",
    "version": 3
   },
   "file_extension": ".py",
   "mimetype": "text/x-python",
   "name": "python",
   "nbconvert_exporter": "python",
   "pygments_lexer": "ipython3",
   "version": "3.11.8"
  }
 },
 "nbformat": 4,
 "nbformat_minor": 5
}
